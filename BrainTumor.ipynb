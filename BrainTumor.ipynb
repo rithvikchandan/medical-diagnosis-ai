{
  "nbformat": 4,
  "nbformat_minor": 0,
  "metadata": {
    "colab": {
      "provenance": []
    },
    "kernelspec": {
      "name": "python3",
      "display_name": "Python 3"
    },
    "language_info": {
      "name": "python"
    }
  },
  "cells": [
    {
      "cell_type": "code",
      "source": [
        "import zipfile\n",
        "import os\n",
        "\n",
        "# Path to your ZIP file (update this)\n",
        "zip_path = \"/content/archive.zip\"\n",
        "extract_path = \"C:\\\\Users\\\\rithv\\\\OneDrive\\\\Desktop\"\n",
        "\n",
        "# Extract the ZIP file\n",
        "with zipfile.ZipFile(zip_path, 'r') as zip_ref:\n",
        "    zip_ref.extractall(extract_path)\n",
        "\n",
        "print(\"✅ ZIP file extracted successfully!\")\n"
      ],
      "metadata": {
        "colab": {
          "base_uri": "https://localhost:8080/"
        },
        "id": "jXOKTIo6Jv7j",
        "outputId": "dbf03902-460a-4155-eb34-a41eb3b449ff"
      },
      "execution_count": 2,
      "outputs": [
        {
          "output_type": "stream",
          "name": "stdout",
          "text": [
            "✅ ZIP file extracted successfully!\n"
          ]
        }
      ]
    },
    {
      "cell_type": "code",
      "source": [
        "import os\n",
        "import shutil\n",
        "import random\n",
        "\n",
        "# Set dataset path (CORRECTED)\n",
        "# dataset_path = \"/content/C:/Users/YourName/Documents/dataset/Brain_Tumor_Dataset\"  # Incorrect path\n",
        "dataset_path = \"/content/C:\\\\Users\\\\rithv\\\\OneDrive\\\\Desktop/Brain_Tumor_Dataset\"  # Corrected: Remove '/content/'\n",
        "output_dir = \"C:/Users/YourName/Documents/dataset_split\"  # Where train & test will be stored\n",
        "\n",
        "# Define train & test paths\n",
        "train_path = os.path.join(output_dir, \"train\")\n",
        "test_path = os.path.join(output_dir, \"test\")\n",
        "\n",
        "# Create train & test directories\n",
        "os.makedirs(train_path, exist_ok=True)\n",
        "os.makedirs(test_path, exist_ok=True)\n",
        "\n",
        "# Loop through categories (positive & negative)\n",
        "for category in [\"Positive\", \"Negative\"]:\n",
        "    class_dir = os.path.join(dataset_path, category)\n",
        "    train_class_dir = os.path.join(train_path, category)\n",
        "    test_class_dir = os.path.join(test_path, category)\n",
        "\n",
        "    os.makedirs(train_class_dir, exist_ok=True)\n",
        "    os.makedirs(test_class_dir, exist_ok=True)\n",
        "\n",
        "    # Get all image files\n",
        "    images = [img for img in os.listdir(class_dir) if img.lower().endswith(('.png', '.jpg', '.jpeg'))]\n",
        "    random.shuffle(images)  # Shuffle images for randomness\n",
        "\n",
        "    # Split 80% train, 20% test\n",
        "    split_idx = int(0.8 * len(images))\n",
        "    train_images = images[:split_idx]\n",
        "    test_images = images[split_idx:]\n",
        "\n",
        "    # Copy images into respective folders\n",
        "    for img in train_images:\n",
        "        shutil.copy(os.path.join(class_dir, img), os.path.join(train_class_dir, img))\n",
        "\n",
        "    for img in test_images:\n",
        "        shutil.copy(os.path.join(class_dir, img), os.path.join(test_class_dir, img))\n",
        "\n",
        "print(\"✅ Dataset split completed! Check the 'dataset_split' folder.\")"
      ],
      "metadata": {
        "colab": {
          "base_uri": "https://localhost:8080/"
        },
        "id": "Y4nfYm_sNSG5",
        "outputId": "775a1d85-a858-48fb-b7b8-24643b446264"
      },
      "execution_count": 3,
      "outputs": [
        {
          "output_type": "stream",
          "name": "stdout",
          "text": [
            "✅ Dataset split completed! Check the 'dataset_split' folder.\n"
          ]
        }
      ]
    },
    {
      "cell_type": "code",
      "source": [
        "import shutil\n",
        "\n",
        "# Path to the split dataset folder (update this)\n",
        "split_dataset_path = \"/content/C:/Users/YourName/Documents/dataset_split\"\n",
        "\n",
        "# Path to save the ZIP file\n",
        "zip_output_path = \"/content/C:\\\\Users\\\\rithv\\\\OneDrive\\\\Desktop\"\n",
        "\n",
        "# Create a ZIP file\n",
        "shutil.make_archive(zip_output_path.replace(\".zip\", \"\"), 'zip', split_dataset_path)\n",
        "\n",
        "print(f\"✅ Dataset zipped successfully! Saved at: {zip_output_path}\")\n"
      ],
      "metadata": {
        "colab": {
          "base_uri": "https://localhost:8080/"
        },
        "id": "YOKeJGwbO-RZ",
        "outputId": "b18c4bf0-1440-438b-ec6f-8690940798e6"
      },
      "execution_count": 4,
      "outputs": [
        {
          "output_type": "stream",
          "name": "stdout",
          "text": [
            "✅ Dataset zipped successfully! Saved at: /content/C:\\Users\\rithv\\OneDrive\\Desktop\n"
          ]
        }
      ]
    },
    {
      "cell_type": "code",
      "source": [
        "import os\n",
        "\n",
        "# Path to the split dataset (UPDATE THIS)\n",
        "split_dataset_path = \"/content/C:/Users/YourName/Documents/dataset_split\"\n",
        "\n",
        "# Loop through train and test folders\n",
        "for folder in [\"train\", \"test\"]:\n",
        "    print(f\"\\n📂 {folder.upper()} SET:\")\n",
        "    for category in [\"Positive\", \"Negative\"]:\n",
        "        category_path = os.path.join(split_dataset_path, folder, category)\n",
        "        num_files = len(os.listdir(category_path))\n",
        "        print(f\"  - {category}: {num_files} images\")\n"
      ],
      "metadata": {
        "colab": {
          "base_uri": "https://localhost:8080/"
        },
        "id": "zhaKn4QPP4Yo",
        "outputId": "77867ae4-c196-4e28-abee-7ee89436257b"
      },
      "execution_count": 5,
      "outputs": [
        {
          "output_type": "stream",
          "name": "stdout",
          "text": [
            "\n",
            "📂 TRAIN SET:\n",
            "  - Positive: 2612 images\n",
            "  - Negative: 1600 images\n",
            "\n",
            "📂 TEST SET:\n",
            "  - Positive: 654 images\n",
            "  - Negative: 400 images\n"
          ]
        }
      ]
    },
    {
      "cell_type": "markdown",
      "source": [
        "PREPROCESSING"
      ],
      "metadata": {
        "id": "teTamhR2Qg_w"
      }
    },
    {
      "cell_type": "code",
      "source": [
        "import tensorflow as tf\n",
        "import numpy as np\n",
        "from tensorflow.keras.preprocessing.image import ImageDataGenerator"
      ],
      "metadata": {
        "id": "OvEfAA8LQgSD"
      },
      "execution_count": 6,
      "outputs": []
    },
    {
      "cell_type": "code",
      "source": [
        "train_datagen = ImageDataGenerator(rescale = 1./255,\n",
        "                            shear_range=0.2,\n",
        "                            zoom_range=0.2,\n",
        "                            horizontal_flip=True)\n",
        "train_dataset = train_datagen.flow_from_directory('/content/C:/Users/YourName/Documents/dataset_split/train',target_size=(64,64),batch_size=32,class_mode='binary')"
      ],
      "metadata": {
        "colab": {
          "base_uri": "https://localhost:8080/"
        },
        "id": "UdrvCATFQocN",
        "outputId": "f50fe189-791c-486b-f85a-bd02a060aad4"
      },
      "execution_count": 7,
      "outputs": [
        {
          "output_type": "stream",
          "name": "stdout",
          "text": [
            "Found 4212 images belonging to 2 classes.\n"
          ]
        }
      ]
    },
    {
      "cell_type": "code",
      "source": [
        "import shutil\n",
        "import os\n",
        "\n",
        "train_path = \"C:/Users/YourName/Documents/dataset_split/train/.ipynb_checkpoints\"\n",
        "\n",
        "# Check if the folder exists, then delete it\n",
        "if os.path.exists(train_path):\n",
        "    shutil.rmtree(train_path)\n",
        "    print(\"✅ Removed .ipynb_checkpoints folder!\")\n",
        "else:\n",
        "    print(\"No .ipynb_checkpoints folder found.\")\n"
      ],
      "metadata": {
        "colab": {
          "base_uri": "https://localhost:8080/"
        },
        "id": "RFqHVkgjSkL8",
        "outputId": "50b0829c-a544-4820-eac5-8085c3d6571e"
      },
      "execution_count": 8,
      "outputs": [
        {
          "output_type": "stream",
          "name": "stdout",
          "text": [
            "No .ipynb_checkpoints folder found.\n"
          ]
        }
      ]
    },
    {
      "cell_type": "code",
      "source": [
        "print(train_dataset.class_indices)  # This will show detected class names"
      ],
      "metadata": {
        "colab": {
          "base_uri": "https://localhost:8080/"
        },
        "id": "5yBRHcnOSG2_",
        "outputId": "ce8bd52e-d579-482e-e1ac-d40b6800b852"
      },
      "execution_count": 9,
      "outputs": [
        {
          "output_type": "stream",
          "name": "stdout",
          "text": [
            "{'Negative': 0, 'Positive': 1}\n"
          ]
        }
      ]
    },
    {
      "cell_type": "code",
      "source": [
        "test_datagen = ImageDataGenerator(rescale=1./255)\n",
        "test_dataset = test_datagen.flow_from_directory('/content/C:/Users/YourName/Documents/dataset_split/test',target_size=(64,64),batch_size=32,class_mode='binary')"
      ],
      "metadata": {
        "colab": {
          "base_uri": "https://localhost:8080/"
        },
        "id": "40FYPFBNQtQ0",
        "outputId": "b4efaa87-8ebc-4037-de0e-3507ee976f38"
      },
      "execution_count": 10,
      "outputs": [
        {
          "output_type": "stream",
          "name": "stdout",
          "text": [
            "Found 1054 images belonging to 2 classes.\n"
          ]
        }
      ]
    },
    {
      "cell_type": "code",
      "source": [
        "import shutil\n",
        "import os\n",
        "\n",
        "test_path = \"C:/Users/YourName/Documents/dataset_split/test/.ipynb_checkpoints\"\n",
        "\n",
        "# Check if the folder exists, then delete it\n",
        "if os.path.exists(test_path):\n",
        "    shutil.rmtree(test_path)\n",
        "    print(\"✅ Removed .ipynb_checkpoints folder!\")\n",
        "else:\n",
        "    print(\"No .ipynb_checkpoints folder found.\")\n"
      ],
      "metadata": {
        "colab": {
          "base_uri": "https://localhost:8080/"
        },
        "id": "Hi8KLF3OSrS1",
        "outputId": "e703d600-745c-46df-a900-89537608e2c2"
      },
      "execution_count": 11,
      "outputs": [
        {
          "output_type": "stream",
          "name": "stdout",
          "text": [
            "No .ipynb_checkpoints folder found.\n"
          ]
        }
      ]
    },
    {
      "cell_type": "code",
      "source": [
        "print(test_dataset.class_indices)  # This will show detected class names\n"
      ],
      "metadata": {
        "colab": {
          "base_uri": "https://localhost:8080/"
        },
        "id": "g8WS7R0fSL5-",
        "outputId": "073fcae7-45cf-4d54-8f50-db3aaaeac504"
      },
      "execution_count": 12,
      "outputs": [
        {
          "output_type": "stream",
          "name": "stdout",
          "text": [
            "{'Negative': 0, 'Positive': 1}\n"
          ]
        }
      ]
    },
    {
      "cell_type": "markdown",
      "source": [
        "BUILDING CNN"
      ],
      "metadata": {
        "id": "L6iK_62PTX-N"
      }
    },
    {
      "cell_type": "code",
      "source": [
        "cnn = tf.keras.models.Sequential()"
      ],
      "metadata": {
        "id": "Pa1XLJLCSi8O"
      },
      "execution_count": 13,
      "outputs": []
    },
    {
      "cell_type": "code",
      "source": [
        "Input_Shape=(64,64,3)"
      ],
      "metadata": {
        "id": "EXYlzqnSTcNh"
      },
      "execution_count": 14,
      "outputs": []
    },
    {
      "cell_type": "code",
      "source": [
        "cnn.add(tf.keras.layers.Input(shape=Input_Shape))\n",
        "cnn.add(tf.keras.layers.Conv2D(filters=32,kernel_size=3,activation=\"relu\"))"
      ],
      "metadata": {
        "id": "UHPFMrBZTe-E"
      },
      "execution_count": 15,
      "outputs": []
    },
    {
      "cell_type": "code",
      "source": [
        "cnn.add(tf.keras.layers.MaxPool2D(pool_size=2,strides=2))"
      ],
      "metadata": {
        "id": "4EQ74ZmxThb8"
      },
      "execution_count": 16,
      "outputs": []
    },
    {
      "cell_type": "code",
      "source": [
        "cnn.add(tf.keras.layers.Conv2D(filters=32,kernel_size=3,activation=\"relu\"))\n",
        "cnn.add(tf.keras.layers.MaxPool2D(pool_size=2,strides=2))"
      ],
      "metadata": {
        "id": "Sv2Mewc7Tjxz"
      },
      "execution_count": 17,
      "outputs": []
    },
    {
      "cell_type": "code",
      "source": [
        "cnn.add(tf.keras.layers.Flatten())"
      ],
      "metadata": {
        "id": "bjBCr8OAToO2"
      },
      "execution_count": 18,
      "outputs": []
    },
    {
      "cell_type": "code",
      "source": [
        "cnn.add(tf.keras.layers.Dense(units=150,activation=\"relu\"))"
      ],
      "metadata": {
        "id": "Ci0DSSqfToop"
      },
      "execution_count": 19,
      "outputs": []
    },
    {
      "cell_type": "code",
      "source": [
        "cnn.add(tf.keras.layers.Dense(units=50,activation=\"relu\"))"
      ],
      "metadata": {
        "id": "23KtQaN5To95"
      },
      "execution_count": 20,
      "outputs": []
    },
    {
      "cell_type": "code",
      "source": [
        "cnn.add(tf.keras.layers.Dense(units=1,activation=\"sigmoid\"))"
      ],
      "metadata": {
        "id": "bLT37sf5Tw6p"
      },
      "execution_count": 21,
      "outputs": []
    },
    {
      "cell_type": "code",
      "source": [
        "cnn.compile(optimizer=\"adam\",loss=\"binary_crossentropy\",metrics=[\"accuracy\"])"
      ],
      "metadata": {
        "id": "JOg17ayaTxRa"
      },
      "execution_count": 22,
      "outputs": []
    },
    {
      "cell_type": "code",
      "source": [
        "cnn.fit(x=train_dataset,validation_data=test_dataset,epochs=30)"
      ],
      "metadata": {
        "colab": {
          "base_uri": "https://localhost:8080/"
        },
        "id": "_gtTqc8aTxpy",
        "outputId": "a71e0de5-62bb-4d3d-dbd4-09d22b054496"
      },
      "execution_count": 23,
      "outputs": [
        {
          "output_type": "stream",
          "name": "stderr",
          "text": [
            "/usr/local/lib/python3.11/dist-packages/keras/src/trainers/data_adapters/py_dataset_adapter.py:121: UserWarning: Your `PyDataset` class should call `super().__init__(**kwargs)` in its constructor. `**kwargs` can include `workers`, `use_multiprocessing`, `max_queue_size`. Do not pass these arguments to `fit()`, as they will be ignored.\n",
            "  self._warn_if_super_not_called()\n"
          ]
        },
        {
          "output_type": "stream",
          "name": "stdout",
          "text": [
            "Epoch 1/30\n",
            "\u001b[1m132/132\u001b[0m \u001b[32m━━━━━━━━━━━━━━━━━━━━\u001b[0m\u001b[37m\u001b[0m \u001b[1m34s\u001b[0m 240ms/step - accuracy: 0.7745 - loss: 0.4688 - val_accuracy: 0.8928 - val_loss: 0.3180\n",
            "Epoch 2/30\n",
            "\u001b[1m132/132\u001b[0m \u001b[32m━━━━━━━━━━━━━━━━━━━━\u001b[0m\u001b[37m\u001b[0m \u001b[1m34s\u001b[0m 256ms/step - accuracy: 0.9115 - loss: 0.2225 - val_accuracy: 0.9070 - val_loss: 0.2492\n",
            "Epoch 3/30\n",
            "\u001b[1m132/132\u001b[0m \u001b[32m━━━━━━━━━━━━━━━━━━━━\u001b[0m\u001b[37m\u001b[0m \u001b[1m33s\u001b[0m 244ms/step - accuracy: 0.9438 - loss: 0.1534 - val_accuracy: 0.9250 - val_loss: 0.2159\n",
            "Epoch 4/30\n",
            "\u001b[1m132/132\u001b[0m \u001b[32m━━━━━━━━━━━━━━━━━━━━\u001b[0m\u001b[37m\u001b[0m \u001b[1m36s\u001b[0m 274ms/step - accuracy: 0.9487 - loss: 0.1490 - val_accuracy: 0.9440 - val_loss: 0.1410\n",
            "Epoch 5/30\n",
            "\u001b[1m132/132\u001b[0m \u001b[32m━━━━━━━━━━━━━━━━━━━━\u001b[0m\u001b[37m\u001b[0m \u001b[1m33s\u001b[0m 250ms/step - accuracy: 0.9510 - loss: 0.1292 - val_accuracy: 0.9023 - val_loss: 0.2827\n",
            "Epoch 6/30\n",
            "\u001b[1m132/132\u001b[0m \u001b[32m━━━━━━━━━━━━━━━━━━━━\u001b[0m\u001b[37m\u001b[0m \u001b[1m32s\u001b[0m 238ms/step - accuracy: 0.9671 - loss: 0.0959 - val_accuracy: 0.9516 - val_loss: 0.1311\n",
            "Epoch 7/30\n",
            "\u001b[1m132/132\u001b[0m \u001b[32m━━━━━━━━━━━━━━━━━━━━\u001b[0m\u001b[37m\u001b[0m \u001b[1m30s\u001b[0m 227ms/step - accuracy: 0.9557 - loss: 0.1090 - val_accuracy: 0.9459 - val_loss: 0.1447\n",
            "Epoch 8/30\n",
            "\u001b[1m132/132\u001b[0m \u001b[32m━━━━━━━━━━━━━━━━━━━━\u001b[0m\u001b[37m\u001b[0m \u001b[1m31s\u001b[0m 234ms/step - accuracy: 0.9654 - loss: 0.0852 - val_accuracy: 0.9393 - val_loss: 0.1328\n",
            "Epoch 9/30\n",
            "\u001b[1m132/132\u001b[0m \u001b[32m━━━━━━━━━━━━━━━━━━━━\u001b[0m\u001b[37m\u001b[0m \u001b[1m33s\u001b[0m 252ms/step - accuracy: 0.9727 - loss: 0.0783 - val_accuracy: 0.9345 - val_loss: 0.1755\n",
            "Epoch 10/30\n",
            "\u001b[1m132/132\u001b[0m \u001b[32m━━━━━━━━━━━━━━━━━━━━\u001b[0m\u001b[37m\u001b[0m \u001b[1m32s\u001b[0m 244ms/step - accuracy: 0.9737 - loss: 0.0675 - val_accuracy: 0.8662 - val_loss: 0.3980\n",
            "Epoch 11/30\n",
            "\u001b[1m132/132\u001b[0m \u001b[32m━━━━━━━━━━━━━━━━━━━━\u001b[0m\u001b[37m\u001b[0m \u001b[1m31s\u001b[0m 231ms/step - accuracy: 0.9762 - loss: 0.0718 - val_accuracy: 0.9696 - val_loss: 0.1017\n",
            "Epoch 12/30\n",
            "\u001b[1m132/132\u001b[0m \u001b[32m━━━━━━━━━━━━━━━━━━━━\u001b[0m\u001b[37m\u001b[0m \u001b[1m32s\u001b[0m 244ms/step - accuracy: 0.9800 - loss: 0.0559 - val_accuracy: 0.9715 - val_loss: 0.1114\n",
            "Epoch 13/30\n",
            "\u001b[1m132/132\u001b[0m \u001b[32m━━━━━━━━━━━━━━━━━━━━\u001b[0m\u001b[37m\u001b[0m \u001b[1m30s\u001b[0m 227ms/step - accuracy: 0.9802 - loss: 0.0531 - val_accuracy: 0.9725 - val_loss: 0.0972\n",
            "Epoch 14/30\n",
            "\u001b[1m132/132\u001b[0m \u001b[32m━━━━━━━━━━━━━━━━━━━━\u001b[0m\u001b[37m\u001b[0m \u001b[1m30s\u001b[0m 228ms/step - accuracy: 0.9877 - loss: 0.0407 - val_accuracy: 0.9696 - val_loss: 0.1193\n",
            "Epoch 15/30\n",
            "\u001b[1m132/132\u001b[0m \u001b[32m━━━━━━━━━━━━━━━━━━━━\u001b[0m\u001b[37m\u001b[0m \u001b[1m32s\u001b[0m 243ms/step - accuracy: 0.9813 - loss: 0.0590 - val_accuracy: 0.9279 - val_loss: 0.2663\n",
            "Epoch 16/30\n",
            "\u001b[1m132/132\u001b[0m \u001b[32m━━━━━━━━━━━━━━━━━━━━\u001b[0m\u001b[37m\u001b[0m \u001b[1m30s\u001b[0m 226ms/step - accuracy: 0.9890 - loss: 0.0274 - val_accuracy: 0.9753 - val_loss: 0.0854\n",
            "Epoch 17/30\n",
            "\u001b[1m132/132\u001b[0m \u001b[32m━━━━━━━━━━━━━━━━━━━━\u001b[0m\u001b[37m\u001b[0m \u001b[1m30s\u001b[0m 225ms/step - accuracy: 0.9825 - loss: 0.0473 - val_accuracy: 0.9668 - val_loss: 0.1583\n",
            "Epoch 18/30\n",
            "\u001b[1m132/132\u001b[0m \u001b[32m━━━━━━━━━━━━━━━━━━━━\u001b[0m\u001b[37m\u001b[0m \u001b[1m35s\u001b[0m 263ms/step - accuracy: 0.9889 - loss: 0.0299 - val_accuracy: 0.9763 - val_loss: 0.0854\n",
            "Epoch 19/30\n",
            "\u001b[1m132/132\u001b[0m \u001b[32m━━━━━━━━━━━━━━━━━━━━\u001b[0m\u001b[37m\u001b[0m \u001b[1m31s\u001b[0m 232ms/step - accuracy: 0.9912 - loss: 0.0252 - val_accuracy: 0.9478 - val_loss: 0.2247\n",
            "Epoch 20/30\n",
            "\u001b[1m132/132\u001b[0m \u001b[32m━━━━━━━━━━━━━━━━━━━━\u001b[0m\u001b[37m\u001b[0m \u001b[1m42s\u001b[0m 236ms/step - accuracy: 0.9914 - loss: 0.0266 - val_accuracy: 0.9639 - val_loss: 0.1805\n",
            "Epoch 21/30\n",
            "\u001b[1m132/132\u001b[0m \u001b[32m━━━━━━━━━━━━━━━━━━━━\u001b[0m\u001b[37m\u001b[0m \u001b[1m33s\u001b[0m 252ms/step - accuracy: 0.9911 - loss: 0.0268 - val_accuracy: 0.9725 - val_loss: 0.0775\n",
            "Epoch 22/30\n",
            "\u001b[1m132/132\u001b[0m \u001b[32m━━━━━━━━━━━━━━━━━━━━\u001b[0m\u001b[37m\u001b[0m \u001b[1m31s\u001b[0m 233ms/step - accuracy: 0.9907 - loss: 0.0284 - val_accuracy: 0.9744 - val_loss: 0.0869\n",
            "Epoch 23/30\n",
            "\u001b[1m132/132\u001b[0m \u001b[32m━━━━━━━━━━━━━━━━━━━━\u001b[0m\u001b[37m\u001b[0m \u001b[1m33s\u001b[0m 246ms/step - accuracy: 0.9969 - loss: 0.0128 - val_accuracy: 0.9421 - val_loss: 0.2263\n",
            "Epoch 24/30\n",
            "\u001b[1m132/132\u001b[0m \u001b[32m━━━━━━━━━━━━━━━━━━━━\u001b[0m\u001b[37m\u001b[0m \u001b[1m33s\u001b[0m 248ms/step - accuracy: 0.9913 - loss: 0.0251 - val_accuracy: 0.9763 - val_loss: 0.0792\n",
            "Epoch 25/30\n",
            "\u001b[1m132/132\u001b[0m \u001b[32m━━━━━━━━━━━━━━━━━━━━\u001b[0m\u001b[37m\u001b[0m \u001b[1m32s\u001b[0m 242ms/step - accuracy: 0.9961 - loss: 0.0137 - val_accuracy: 0.9677 - val_loss: 0.1258\n",
            "Epoch 26/30\n",
            "\u001b[1m132/132\u001b[0m \u001b[32m━━━━━━━━━━━━━━━━━━━━\u001b[0m\u001b[37m\u001b[0m \u001b[1m30s\u001b[0m 229ms/step - accuracy: 0.9882 - loss: 0.0284 - val_accuracy: 0.9782 - val_loss: 0.0977\n",
            "Epoch 27/30\n",
            "\u001b[1m132/132\u001b[0m \u001b[32m━━━━━━━━━━━━━━━━━━━━\u001b[0m\u001b[37m\u001b[0m \u001b[1m30s\u001b[0m 227ms/step - accuracy: 0.9955 - loss: 0.0145 - val_accuracy: 0.9753 - val_loss: 0.1261\n",
            "Epoch 28/30\n",
            "\u001b[1m132/132\u001b[0m \u001b[32m━━━━━━━━━━━━━━━━━━━━\u001b[0m\u001b[37m\u001b[0m \u001b[1m32s\u001b[0m 245ms/step - accuracy: 0.9969 - loss: 0.0136 - val_accuracy: 0.9734 - val_loss: 0.0999\n",
            "Epoch 29/30\n",
            "\u001b[1m132/132\u001b[0m \u001b[32m━━━━━━━━━━━━━━━━━━━━\u001b[0m\u001b[37m\u001b[0m \u001b[1m31s\u001b[0m 235ms/step - accuracy: 0.9973 - loss: 0.0109 - val_accuracy: 0.9791 - val_loss: 0.1222\n",
            "Epoch 30/30\n",
            "\u001b[1m132/132\u001b[0m \u001b[32m━━━━━━━━━━━━━━━━━━━━\u001b[0m\u001b[37m\u001b[0m \u001b[1m31s\u001b[0m 232ms/step - accuracy: 0.9956 - loss: 0.0125 - val_accuracy: 0.9753 - val_loss: 0.1031\n"
          ]
        },
        {
          "output_type": "execute_result",
          "data": {
            "text/plain": [
              "<keras.src.callbacks.history.History at 0x7d71a411d910>"
            ]
          },
          "metadata": {},
          "execution_count": 23
        }
      ]
    },
    {
      "cell_type": "code",
      "source": [
        "import numpy as np\n",
        "from tensorflow.keras.preprocessing import image\n",
        "test_image = image.load_img('/content/pos3.jpg', target_size = (64, 64))\n",
        "test_image = image.img_to_array(test_image)\n",
        "test_image = np.expand_dims(test_image,axis=0)\n",
        "result = cnn.predict(test_image)\n",
        "prediction=\"\"\n",
        "if result[0][0]==0:\n",
        "    prediction=\"Negative\"\n",
        "else:\n",
        "    prediction=\"Positive\""
      ],
      "metadata": {
        "colab": {
          "base_uri": "https://localhost:8080/"
        },
        "id": "BFEcWtN1T--f",
        "outputId": "bd12a4ff-8ac0-4fa8-ac0b-25cea1945388"
      },
      "execution_count": 24,
      "outputs": [
        {
          "output_type": "stream",
          "name": "stdout",
          "text": [
            "\u001b[1m1/1\u001b[0m \u001b[32m━━━━━━━━━━━━━━━━━━━━\u001b[0m\u001b[37m\u001b[0m \u001b[1m0s\u001b[0m 117ms/step\n"
          ]
        }
      ]
    },
    {
      "cell_type": "code",
      "source": [
        "result"
      ],
      "metadata": {
        "colab": {
          "base_uri": "https://localhost:8080/"
        },
        "id": "iJXEGhwgUCB9",
        "outputId": "15d49b88-e258-4de2-e8cf-82ec81d5fdcd"
      },
      "execution_count": 25,
      "outputs": [
        {
          "output_type": "execute_result",
          "data": {
            "text/plain": [
              "array([[1.]], dtype=float32)"
            ]
          },
          "metadata": {},
          "execution_count": 25
        }
      ]
    },
    {
      "cell_type": "code",
      "source": [
        "import keras\n",
        "keras.saving.save_model(cnn,\"Brain_Tumour.keras\")"
      ],
      "metadata": {
        "id": "1BoJxuIkUDlg"
      },
      "execution_count": 26,
      "outputs": []
    },
    {
      "cell_type": "code",
      "source": [
        "from google.colab import files\n",
        "files.download(\"Brain_Tumour.keras\")\n"
      ],
      "metadata": {
        "colab": {
          "base_uri": "https://localhost:8080/",
          "height": 17
        },
        "id": "sS5So5T9iN-z",
        "outputId": "bf3bb333-2888-475f-b563-07157adb76b9"
      },
      "execution_count": 27,
      "outputs": [
        {
          "output_type": "display_data",
          "data": {
            "text/plain": [
              "<IPython.core.display.Javascript object>"
            ],
            "application/javascript": [
              "\n",
              "    async function download(id, filename, size) {\n",
              "      if (!google.colab.kernel.accessAllowed) {\n",
              "        return;\n",
              "      }\n",
              "      const div = document.createElement('div');\n",
              "      const label = document.createElement('label');\n",
              "      label.textContent = `Downloading \"${filename}\": `;\n",
              "      div.appendChild(label);\n",
              "      const progress = document.createElement('progress');\n",
              "      progress.max = size;\n",
              "      div.appendChild(progress);\n",
              "      document.body.appendChild(div);\n",
              "\n",
              "      const buffers = [];\n",
              "      let downloaded = 0;\n",
              "\n",
              "      const channel = await google.colab.kernel.comms.open(id);\n",
              "      // Send a message to notify the kernel that we're ready.\n",
              "      channel.send({})\n",
              "\n",
              "      for await (const message of channel.messages) {\n",
              "        // Send a message to notify the kernel that we're ready.\n",
              "        channel.send({})\n",
              "        if (message.buffers) {\n",
              "          for (const buffer of message.buffers) {\n",
              "            buffers.push(buffer);\n",
              "            downloaded += buffer.byteLength;\n",
              "            progress.value = downloaded;\n",
              "          }\n",
              "        }\n",
              "      }\n",
              "      const blob = new Blob(buffers, {type: 'application/binary'});\n",
              "      const a = document.createElement('a');\n",
              "      a.href = window.URL.createObjectURL(blob);\n",
              "      a.download = filename;\n",
              "      div.appendChild(a);\n",
              "      a.click();\n",
              "      div.remove();\n",
              "    }\n",
              "  "
            ]
          },
          "metadata": {}
        },
        {
          "output_type": "display_data",
          "data": {
            "text/plain": [
              "<IPython.core.display.Javascript object>"
            ],
            "application/javascript": [
              "download(\"download_8cb2f86e-0372-4b55-a19e-155ee897fef8\", \"Brain_Tumour.keras\", 11546905)"
            ]
          },
          "metadata": {}
        }
      ]
    }
  ]
}